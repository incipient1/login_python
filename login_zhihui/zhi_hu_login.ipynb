{
 "cells": [
  {
   "cell_type": "code",
   "execution_count": 58,
   "metadata": {
    "collapsed": true
   },
   "outputs": [],
   "source": [
    "import requests\n",
    "import re\n",
    "import pprint\n",
    "import json\n",
    "import pyquery\n",
    "import hmac\n",
    "import time\n",
    "import base64\n",
    "import hmac\n",
    "import hashlib"
   ]
  },
  {
   "cell_type": "code",
   "execution_count": 59,
   "metadata": {
    "collapsed": true
   },
   "outputs": [],
   "source": [
    "s = requests.Session()"
   ]
  },
  {
   "cell_type": "code",
   "execution_count": 60,
   "metadata": {
    "collapsed": true
   },
   "outputs": [],
   "source": [
    "sigup_url = 'https://www.zhihu.com/signup'\n",
    "home_url = 'https://www.zhihu.com'\n",
    "sigin_url = 'https://www.zhihu.com/api/v3/oauth/sign_in'"
   ]
  },
  {
   "cell_type": "code",
   "execution_count": 61,
   "metadata": {
    "collapsed": true
   },
   "outputs": [],
   "source": [
    "user_agent = 'Mozilla/5.0 (Windows NT 10.0; Win64; x64) AppleWebKit/537.36 (KHTML, like Gecko) Chrome/64.0.3282.186 Safari/537.36'  "
   ]
  },
  {
   "cell_type": "code",
   "execution_count": 62,
   "metadata": {
    "collapsed": true
   },
   "outputs": [],
   "source": [
    "headers_sigup = {'User-Agent':user_agent,\n",
    "                'Connection':'keep-alive',\n",
    "                'Accept':'text/html,application/xhtml+xml,application/xml;q=0.9,image/webp,image/apng,*/*;q=0.8',  \n",
    "                'Accept-Encoding':'gzip, deflate, br',\n",
    "                'Accept-Language':'zh-CN,zh;q=0.9',\n",
    "                'Host':'www.zhihu.com'\n",
    "                }"
   ]
  },
  {
   "cell_type": "code",
   "execution_count": 63,
   "metadata": {
    "collapsed": true
   },
   "outputs": [],
   "source": [
    "client_id = 'c3cef7c66a1843f8b3a9e6a1e3160e20'\n",
    "authorization = 'oauth ' + client_id"
   ]
  },
  {
   "cell_type": "code",
   "execution_count": 64,
   "metadata": {},
   "outputs": [],
   "source": [
    "headers_sigin = {\n",
    "               'authorization':authorization,\n",
    "               'Referer':sigup_url,\n",
    "               'Origin':home_url,\n",
    "               'User-Agent':user_agent,\n",
    "              }"
   ]
  },
  {
   "cell_type": "code",
   "execution_count": 65,
   "metadata": {
    "collapsed": true
   },
   "outputs": [],
   "source": [
    "headers_captcha = {\n",
    "    'authorization':authorization,\n",
    "    'Referer':sigup_url,\n",
    "    'User-Agent':user_agent,\n",
    "}"
   ]
  },
  {
   "cell_type": "code",
   "execution_count": 66,
   "metadata": {
    "collapsed": true
   },
   "outputs": [],
   "source": [
    "payload = {\n",
    "    'client_id':client_id,\n",
    "    'grant_type':'password',\n",
    "    'source' : 'com.zhihu.web',\n",
    "    'lang':'en',\n",
    "    'ref_source':'other',\n",
    "    'utm_source':None,\n",
    "    }"
   ]
  },
  {
   "cell_type": "code",
   "execution_count": 67,
   "metadata": {
    "collapsed": true
   },
   "outputs": [],
   "source": [
    "def get_token():\n",
    "    r1 = s.get(sigup_url,headers = headers_sigup,allow_redirects = False)\n",
    "    xsrf_token = r1.cookies['_xsrf']\n",
    "    return xsrf_token"
   ]
  },
  {
   "cell_type": "code",
   "execution_count": 68,
   "metadata": {
    "collapsed": true
   },
   "outputs": [],
   "source": [
    "def get_captcha():\n",
    "    captcha_url = 'https://www.zhihu.com/api/v3/oauth/captcha'\n",
    "    query_string_parameters = {'lang':'en'}\n",
    "    r2 = s.get(captcha_url,data = query_string_parameters,headers = headers_captcha)\n",
    "\n",
    "    if json.loads(r2.text)['show_captcha'] :\n",
    "        r3 = s.put(captcha_url,data = query_string_parameters,\n",
    "                   headers = headers_captcha)\n",
    "        pattern = re.compile(r'\"img_base64\":\"(.+?)=\\n\"')\n",
    "        img_base64 = pattern.findall(r3.text)[0]\n",
    "        img_data = base64.b64decode(img_base64)\n",
    "        with open('captcha_zhihu.png','wb') as f:\n",
    "            f.write(img_data)\n",
    "        \n",
    "        capthca = str(input('请输入验证码：'))\n",
    "        return captcha\n",
    "    else:\n",
    "        return None"
   ]
  },
  {
   "cell_type": "code",
   "execution_count": 69,
   "metadata": {
    "collapsed": true
   },
   "outputs": [],
   "source": [
    "def get_signature(timestamp):\n",
    "    h = hmac.new(b'd1b964811afb40118a12068ff74a12f4',digestmod = hashlib.sha1)\n",
    "    grant_type = payload['grant_type']\n",
    "    source = payload['source']\n",
    "    h.update(bytes((grant_type + client_id + source + timestamp), 'utf-8'))\n",
    "    return h.hexdigest()"
   ]
  },
  {
   "cell_type": "code",
   "execution_count": 70,
   "metadata": {
    "collapsed": true
   },
   "outputs": [],
   "source": [
    "def login(username,password):\n",
    "    xsrf_token = get_token()\n",
    "    timestamp = str(int(time.time()*1000))\n",
    "    signature = get_signature(timestamp)\n",
    "    captcha = get_captcha()\n",
    "    payload.update({\n",
    "        'username' : username,\n",
    "        'password' : password,\n",
    "        'timestamp' : timestamp,\n",
    "        'signature' : signature,\n",
    "        'captcha' : captcha,\n",
    "        })\n",
    "    headers_sigin.update({'X-Xsrftoken':xsrf_token})\n",
    "    r3 = s.post(sigin_url,data = payload,headers = headers_sigin,\n",
    "               allow_redirects  =False)\n",
    "    check = check_login()\n",
    "    if 'error' in r3.text:\n",
    "        print(r3.text)\n",
    "    elif check:\n",
    "        print('登陆成功！')"
   ]
  },
  {
   "cell_type": "code",
   "execution_count": 71,
   "metadata": {
    "collapsed": true
   },
   "outputs": [],
   "source": [
    "def check_login():\n",
    "    r4 = s.get(sigup_url,allow_redirects = True,\n",
    "               headers = {'User-Agent':user_agent})\n",
    "    if r4.url == 'https://www.zhihu.com':\n",
    "        return True"
   ]
  },
  {
   "cell_type": "code",
   "execution_count": 72,
   "metadata": {},
   "outputs": [
    {
     "name": "stdout",
     "output_type": "stream",
     "text": [
      "登陆成功！\n"
     ]
    }
   ],
   "source": [
    "password = '*****'\n",
    "username = '******'\n",
    "login(username,password)"
   ]
  }
 ],
 "metadata": {
  "kernelspec": {
   "display_name": "Python 3",
   "language": "python",
   "name": "python3"
  },
  "language_info": {
   "codemirror_mode": {
    "name": "ipython",
    "version": 3
   },
   "file_extension": ".py",
   "mimetype": "text/x-python",
   "name": "python",
   "nbconvert_exporter": "python",
   "pygments_lexer": "ipython3",
   "version": "3.5.4"
  },
  "toc": {
   "nav_menu": {},
   "number_sections": true,
   "sideBar": true,
   "skip_h1_title": false,
   "toc_cell": false,
   "toc_position": {},
   "toc_section_display": "block",
   "toc_window_display": false
  }
 },
 "nbformat": 4,
 "nbformat_minor": 2
}
